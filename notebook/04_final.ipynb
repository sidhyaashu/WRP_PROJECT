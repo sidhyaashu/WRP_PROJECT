{
 "cells": [
  {
   "cell_type": "code",
   "execution_count": 1,
   "metadata": {},
   "outputs": [
    {
     "name": "stderr",
     "output_type": "stream",
     "text": [
      "c:\\Users\\NITRO V 15\\anaconda3\\envs\\ai\\lib\\site-packages\\tqdm\\auto.py:21: TqdmWarning: IProgress not found. Please update jupyter and ipywidgets. See https://ipywidgets.readthedocs.io/en/stable/user_install.html\n",
      "  from .autonotebook import tqdm as notebook_tqdm\n"
     ]
    },
    {
     "name": "stdout",
     "output_type": "stream",
     "text": [
      "WARNING:tensorflow:From c:\\Users\\NITRO V 15\\anaconda3\\envs\\ai\\lib\\site-packages\\tf_keras\\src\\losses.py:2976: The name tf.losses.sparse_softmax_cross_entropy is deprecated. Please use tf.compat.v1.losses.sparse_softmax_cross_entropy instead.\n",
      "\n"
     ]
    }
   ],
   "source": [
    "import nltk\n",
    "import spacy\n",
    "import torch\n",
    "import torch.nn as nn\n",
    "import numpy as np\n",
    "from sklearn.metrics.pairwise import cosine_similarity\n",
    "from gensim import corpora, models\n",
    "import matplotlib.pyplot as plt\n",
    "from sklearn.feature_extraction.text import TfidfVectorizer\n",
    "import matplotlib.pyplot as plt\n",
    "import networkx as nx\n",
    "from datasets import Dataset\n",
    "from transformers import AutoTokenizer,AutoModelForSequenceClassification,TrainingArguments,Trainer"
   ]
  },
  {
   "cell_type": "code",
   "execution_count": 1,
   "metadata": {},
   "outputs": [
    {
     "ename": "NameError",
     "evalue": "name 'nltk' is not defined",
     "output_type": "error",
     "traceback": [
      "\u001b[1;31m---------------------------------------------------------------------------\u001b[0m",
      "\u001b[1;31mNameError\u001b[0m                                 Traceback (most recent call last)",
      "Cell \u001b[1;32mIn[1], line 1\u001b[0m\n\u001b[1;32m----> 1\u001b[0m \u001b[43mnltk\u001b[49m\u001b[38;5;241m.\u001b[39mdownload(\u001b[38;5;124m'\u001b[39m\u001b[38;5;124mpunkt\u001b[39m\u001b[38;5;124m'\u001b[39m)\n\u001b[0;32m      2\u001b[0m nltk\u001b[38;5;241m.\u001b[39mdownload(\u001b[38;5;124m'\u001b[39m\u001b[38;5;124maveraged_perceptron_tagger\u001b[39m\u001b[38;5;124m'\u001b[39m)\n\u001b[0;32m      3\u001b[0m nltk\u001b[38;5;241m.\u001b[39mdownload(\u001b[38;5;124m'\u001b[39m\u001b[38;5;124mstopwords\u001b[39m\u001b[38;5;124m'\u001b[39m)\n",
      "\u001b[1;31mNameError\u001b[0m: name 'nltk' is not defined"
     ]
    }
   ],
   "source": [
    "nltk.download('punkt')\n",
    "nltk.download('averaged_perceptron_tagger')\n",
    "nltk.download('stopwords')\n",
    "nltk.download('wordnet')\n"
   ]
  },
  {
   "cell_type": "code",
   "execution_count": 52,
   "metadata": {},
   "outputs": [],
   "source": [
    "nlp_normal = spacy.load(\"en_core_web_sm\")"
   ]
  },
  {
   "cell_type": "code",
   "execution_count": 5,
   "metadata": {},
   "outputs": [],
   "source": [
    "student_answer = \"The earth is round. It revolves around the sun.  Sometimes it's hot.\" \n",
    "correct_answer = \"The Earth is a planet in our solar system. It is spherical in shape and revolves around the Sun. This revolution causes the seasons, with varying temperatures depending on the Earth's tilt and position in its orbit.\"\n"
   ]
  },
  {
   "cell_type": "code",
   "execution_count": 7,
   "metadata": {},
   "outputs": [],
   "source": [
    "def preprocess_text(text):\n",
    "    text = text.lower()\n",
    "    text = ''.join([char for char in text if char.isalnum() or char == ' ' or char == '-'])\n",
    "    text = ' '.join(text.split()) \n",
    "    stop_words = set(nltk.corpus.stopwords.words('english'))\n",
    "    words = [word for word in text.split() if word not in stop_words]\n",
    "    return \" \".join(words)"
   ]
  },
  {
   "cell_type": "code",
   "execution_count": 55,
   "metadata": {},
   "outputs": [],
   "source": [
    "student_answer_processed = preprocess_text(student_answer)\n",
    "correct_answer_processed = preprocess_text(correct_answer)"
   ]
  },
  {
   "cell_type": "code",
   "execution_count": 56,
   "metadata": {},
   "outputs": [],
   "source": [
    "correct_tokens = nlp_normal(correct_answer_processed)\n",
    "student_tokens = nlp_normal(student_answer_processed)"
   ]
  },
  {
   "cell_type": "code",
   "execution_count": 62,
   "metadata": {},
   "outputs": [
    {
     "data": {
      "text/plain": [
       "earth planet solar system spherical shape revolves around sun revolution causes seasons varying temperatures depending earths tilt position orbit"
      ]
     },
     "execution_count": 62,
     "metadata": {},
     "output_type": "execute_result"
    }
   ],
   "source": [
    "correct_tokens"
   ]
  },
  {
   "cell_type": "code",
   "execution_count": 57,
   "metadata": {},
   "outputs": [
    {
     "name": "stdout",
     "output_type": "stream",
     "text": [
      "earth planet solar system spherical shape revolves around sun revolution causes seasons varying temperatures depending earths tilt position orbit\n",
      "\n",
      "earth round revolves around sun sometimes hot\n"
     ]
    }
   ],
   "source": [
    "print(correct_tokens)\n",
    "print()\n",
    "print(student_tokens)"
   ]
  },
  {
   "cell_type": "code",
   "execution_count": 58,
   "metadata": {},
   "outputs": [],
   "source": [
    "correct_embedding = np.mean([token.vector for token in correct_tokens if token.has_vector], axis=0)\n",
    "student_embedding = np.mean([token.vector for token in student_tokens if token.has_vector], axis=0)\n"
   ]
  },
  {
   "cell_type": "code",
   "execution_count": 60,
   "metadata": {},
   "outputs": [],
   "source": [
    "# print(correct_embedding)\n",
    "# print()\n",
    "# print(student_embedding)"
   ]
  },
  {
   "cell_type": "code",
   "execution_count": 61,
   "metadata": {},
   "outputs": [
    {
     "name": "stdout",
     "output_type": "stream",
     "text": [
      "Semantic Similarity: 0.5656784\n"
     ]
    },
    {
     "data": {
      "image/png": "[encoded data removed]",
      "text/plain": [
       "<Figure size 640x480 with 1 Axes>"
      ]
     },
     "metadata": {},
     "output_type": "display_data"
    }
   ],
   "source": [
    "if not np.isnan(correct_embedding).any() and not np.isnan(student_embedding).any():  # Check for valid vectors\n",
    "    similarity = cosine_similarity(correct_embedding.reshape(1, -1), student_embedding.reshape(1, -1))[0][0]\n",
    "    print(\"Semantic Similarity:\", similarity)\n",
    "\n",
    "    # Example Visualization (Bar chart)\n",
    "    labels = ['Correct Answer', 'Student Answer']\n",
    "    embeddings = [np.linalg.norm(correct_embedding), np.linalg.norm(student_embedding)] #magnitude of vectors\n",
    "\n",
    "    plt.bar(labels, embeddings)\n",
    "    plt.ylabel('Embedding Magnitude')\n",
    "    plt.title('Comparison of Embedding Magnitudes')\n",
    "    plt.show()\n",
    "else:\n",
    "    print(\"Could not calculate semantic similarity due to missing word vectors.\")"
   ]
  },
  {
   "cell_type": "code",
   "execution_count": 44,
   "metadata": {},
   "outputs": [],
   "source": [
    "# 3.4 Topic Modeling (Simplified Example)\n",
    "documents = [correct_answer_processed, student_answer_processed]\n",
    "dictionary = corpora.Dictionary(doc.split() for doc in documents)\n",
    "corpus = [dictionary.doc2bow(doc.split()) for doc in documents]\n",
    "lda_model = models.LdaModel(corpus, num_topics=2, id2word=dictionary)"
   ]
  },
  {
   "cell_type": "code",
   "execution_count": 45,
   "metadata": {},
   "outputs": [
    {
     "name": "stdout",
     "output_type": "stream",
     "text": [
      "LDA Topics:\n",
      "(0, '0.070*\"earth\" + 0.067*\"around\" + 0.067*\"revolves\" + 0.063*\"sun\" + 0.047*\"sometimes\" + 0.045*\"hot\" + 0.044*\"planet\" + 0.043*\"orbit\" + 0.042*\"round\" + 0.041*\"varying\"')\n",
      "(1, '0.062*\"sun\" + 0.057*\"revolves\" + 0.056*\"around\" + 0.053*\"earth\" + 0.047*\"earths\" + 0.046*\"seasons\" + 0.046*\"spherical\" + 0.045*\"depending\" + 0.045*\"shape\" + 0.045*\"tilt\"')\n"
     ]
    }
   ],
   "source": [
    "print(\"LDA Topics:\")\n",
    "for topic in lda_model.show_topics():\n",
    "    print(topic)"
   ]
  },
  {
   "cell_type": "code",
   "execution_count": 47,
   "metadata": {},
   "outputs": [
    {
     "name": "stdout",
     "output_type": "stream",
     "text": [
      "Missing Keywords: {'temperatures', 'causes', 'shape', 'revolution', 'depending', 'system', 'earths', 'solar', 'seasons', 'spherical', 'orbit', 'tilt', 'varying', 'position', 'planet'}\n"
     ]
    }
   ],
   "source": [
    "# Keyword/Concept Matching (Simplified)\n",
    "correct_keywords = set(correct_answer_processed.split())\n",
    "student_keywords = set(student_answer_processed.split())\n",
    "missing_keywords = correct_keywords - student_keywords\n",
    "print(\"Missing Keywords:\", missing_keywords)"
   ]
  },
  {
   "cell_type": "code",
   "execution_count": 46,
   "metadata": {},
   "outputs": [
    {
     "name": "stdout",
     "output_type": "stream",
     "text": [
      "Correct Answer Sentiment: 0.0\n",
      "Student Answer Sentiment: 0.024999999999999994\n"
     ]
    }
   ],
   "source": [
    "# Sentiment Analysis (Simplified Example - using TextBlob)\n",
    "from textblob import TextBlob\n",
    "correct_sentiment = TextBlob(correct_answer).sentiment.polarity\n",
    "student_sentiment = TextBlob(student_answer).sentiment.polarity\n",
    "print(\"Correct Answer Sentiment:\", correct_sentiment)\n",
    "print(\"Student Answer Sentiment:\", student_sentiment)"
   ]
  },
  {
   "cell_type": "code",
   "execution_count": 18,
   "metadata": {},
   "outputs": [
    {
     "name": "stdout",
     "output_type": "stream",
     "text": [
      "earth round revolves around sun sometimes hot\n",
      "\n",
      "earth planet solar system spherical shape revolves around sun revolution causes seasons varying temperatures depending earths tilt position orbit\n"
     ]
    }
   ],
   "source": [
    "print(student_answer_processed)\n",
    "print()\n",
    "print(correct_answer_processed)"
   ]
  },
  {
   "cell_type": "code",
   "execution_count": 13,
   "metadata": {},
   "outputs": [],
   "source": [
    "student_tokens = nltk.word_tokenize(student_answer_processed)\n",
    "correct_tokens = nltk.word_tokenize(correct_answer_processed)"
   ]
  },
  {
   "cell_type": "code",
   "execution_count": 50,
   "metadata": {},
   "outputs": [
    {
     "name": "stdout",
     "output_type": "stream",
     "text": [
      "['earth', 'round', 'revolves', 'around', 'sun', 'sometimes', 'hot']\n",
      "\n",
      "['earth', 'planet', 'solar', 'system', 'spherical', 'shape', 'revolves', 'around', 'sun', 'revolution', 'causes', 'seasons', 'varying', 'temperatures', 'depending', 'earths', 'tilt', 'position', 'orbit']\n"
     ]
    }
   ],
   "source": [
    "print(student_tokens)\n",
    "print()\n",
    "print(correct_tokens)"
   ]
  },
  {
   "cell_type": "code",
   "execution_count": 20,
   "metadata": {},
   "outputs": [],
   "source": [
    "student_pos = nltk.pos_tag(student_answer_processed.split())\n",
    "correct_pos = nltk.pos_tag(correct_answer_processed.split())"
   ]
  },
  {
   "cell_type": "code",
   "execution_count": 21,
   "metadata": {},
   "outputs": [
    {
     "name": "stdout",
     "output_type": "stream",
     "text": [
      "[('earth', 'NN'), ('round', 'NN'), ('revolves', 'VBZ'), ('around', 'IN'), ('sun', 'NN'), ('sometimes', 'RB'), ('hot', 'JJ')]\n",
      "\n",
      "[('earth', 'NN'), ('planet', 'NN'), ('solar', 'NN'), ('system', 'NN'), ('spherical', 'JJ'), ('shape', 'NN'), ('revolves', 'VBZ'), ('around', 'IN'), ('sun', 'JJ'), ('revolution', 'NN'), ('causes', 'NNS'), ('seasons', 'NNS'), ('varying', 'VBG'), ('temperatures', 'NNS'), ('depending', 'VBG'), ('earths', 'NNS'), ('tilt', 'JJ'), ('position', 'NN'), ('orbit', 'NN')]\n"
     ]
    }
   ],
   "source": [
    "print(student_pos)\n",
    "print()\n",
    "print(correct_pos)"
   ]
  },
  {
   "cell_type": "code",
   "execution_count": 29,
   "metadata": {},
   "outputs": [],
   "source": [
    "# Use the original, not preprocessed text for NER\n",
    "# student_ner = nlp(student_answer).ents  \n",
    "# correct_ner = nlp(correct_answer).ents"
   ]
  },
  {
   "cell_type": "code",
   "execution_count": null,
   "metadata": {},
   "outputs": [
    {
     "name": "stderr",
     "output_type": "stream",
     "text": [
      "Some weights of the model checkpoint at dbmdz/bert-large-cased-finetuned-conll03-english were not used when initializing BertForTokenClassification: ['bert.pooler.dense.bias', 'bert.pooler.dense.weight']\n",
      "- This IS expected if you are initializing BertForTokenClassification from the checkpoint of a model trained on another task or with another architecture (e.g. initializing a BertForSequenceClassification model from a BertForPreTraining model).\n",
      "- This IS NOT expected if you are initializing BertForTokenClassification from the checkpoint of a model that you expect to be exactly identical (initializing a BertForSequenceClassification model from a BertForSequenceClassification model).\n",
      "Device set to use cpu\n"
     ]
    }
   ],
   "source": [
    "from transformers import BertTokenizer, BertForTokenClassification\n",
    "from transformers import pipeline\n",
    "\n",
    "# Step 1: Load a Pre-trained BERT Tokenizer and Model for NER\n",
    "model_name = \"dbmdz/bert-large-cased-finetuned-conll03-english\"\n",
    "tokenizer = BertTokenizer.from_pretrained(model_name)\n",
    "model = BertForTokenClassification.from_pretrained(model_name)\n",
    "\n",
    "# Step 2: Create a NER pipeline\n",
    "nlp = pipeline(\"ner\", model=model, tokenizer=tokenizer)\n"
   ]
  },
  {
   "cell_type": "code",
   "execution_count": 34,
   "metadata": {},
   "outputs": [],
   "source": [
    "student_ner = nlp(student_answer)  \n",
    "correct_ner = nlp(correct_answer)"
   ]
  },
  {
   "cell_type": "code",
   "execution_count": 35,
   "metadata": {},
   "outputs": [
    {
     "name": "stdout",
     "output_type": "stream",
     "text": [
      "[]\n",
      "\n",
      "[{'entity': 'I-LOC', 'score': 0.91113573, 'index': 2, 'word': 'Earth', 'start': None, 'end': None}, {'entity': 'I-LOC', 'score': 0.6010872, 'index': 20, 'word': 'Sun', 'start': None, 'end': None}, {'entity': 'I-LOC', 'score': 0.7849307, 'index': 34, 'word': 'Earth', 'start': None, 'end': None}]\n"
     ]
    }
   ],
   "source": [
    "print(student_ner)\n",
    "print()\n",
    "print(correct_ner)"
   ]
  },
  {
   "cell_type": "code",
   "execution_count": 37,
   "metadata": {},
   "outputs": [
    {
     "name": "stdout",
     "output_type": "stream",
     "text": [
      "Word: Earth, Entity: I-LOC, Score: 0.911135733127594\n",
      "Word: Sun, Entity: I-LOC, Score: 0.601087212562561\n",
      "Word: Earth, Entity: I-LOC, Score: 0.7849307060241699\n"
     ]
    }
   ],
   "source": [
    "# Step 4: Display the results\n",
    "for entity in correct_ner:\n",
    "    print(f\"Word: {entity['word']}, Entity: {entity['entity']}, Score: {entity['score']}\")"
   ]
  },
  {
   "cell_type": "code",
   "execution_count": 38,
   "metadata": {},
   "outputs": [
    {
     "name": "stdout",
     "output_type": "stream",
     "text": [
      "Semantic Similarity: 0.21893218489401248\n"
     ]
    }
   ],
   "source": [
    "vectorizer = TfidfVectorizer()\n",
    "vectors = vectorizer.fit_transform([student_answer_processed, correct_answer_processed])\n",
    "similarity = cosine_similarity(vectors[0], vectors[1])[0][0]\n",
    "\n",
    "print(f\"Semantic Similarity: {similarity}\")"
   ]
  },
  {
   "cell_type": "code",
   "execution_count": 39,
   "metadata": {},
   "outputs": [
    {
     "data": {
      "image/png": "[encoded data removed]",
      "text/plain": [
       "<Figure size 640x480 with 1 Axes>"
      ]
     },
     "metadata": {},
     "output_type": "display_data"
    }
   ],
   "source": [
    "plt.bar(['Student Answer', 'Correct Answer'], [vectors[0].sum(), vectors[1].sum()])\n",
    "plt.title('TF-IDF Representation')\n",
    "plt.ylabel('TF-IDF Score')\n",
    "plt.show()"
   ]
  },
  {
   "cell_type": "code",
   "execution_count": 40,
   "metadata": {},
   "outputs": [
    {
     "name": "stdout",
     "output_type": "stream",
     "text": [
      "Student Answer Contains 'round': True\n",
      "Correct Answer Contains 'round': True\n"
     ]
    }
   ],
   "source": [
    "# (This part requires integration with a QA system like BERT QA.  The example is simplified)\n",
    "student_answer_contains_round = \"round\" in student_answer_processed\n",
    "correct_answer_contains_round = \"round\" in correct_answer_processed\n",
    "\n",
    "print(f\"Student Answer Contains 'round': {student_answer_contains_round}\")\n",
    "print(f\"Correct Answer Contains 'round': {correct_answer_contains_round}\")"
   ]
  },
  {
   "cell_type": "code",
   "execution_count": 41,
   "metadata": {},
   "outputs": [
    {
     "name": "stdout",
     "output_type": "stream",
     "text": [
      "Knowledge Gaps: [\"Low overall understanding of Earth's characteristics\"]\n"
     ]
    }
   ],
   "source": [
    "knowledge_gaps = []\n",
    "if not student_answer_contains_round:\n",
    "    knowledge_gaps.append(\"Missing concept: Earth's shape (spherical)\")\n",
    "if similarity < 0.5: # Example threshold\n",
    "    knowledge_gaps.append(\"Low overall understanding of Earth's characteristics\")\n",
    "\n",
    "print(\"Knowledge Gaps:\", knowledge_gaps)"
   ]
  },
  {
   "cell_type": "code",
   "execution_count": 42,
   "metadata": {},
   "outputs": [
    {
     "data": {
      "image/png": "[encoded data removed]",
      "text/plain": [
       "<Figure size 640x480 with 1 Axes>"
      ]
     },
     "metadata": {},
     "output_type": "display_data"
    }
   ],
   "source": [
    "knowledge_graph = nx.Graph()\n",
    "knowledge_graph.add_node(\"Earth\")\n",
    "knowledge_graph.add_node(\"Sun\")\n",
    "knowledge_graph.add_node(\"Shape\")\n",
    "knowledge_graph.add_node(\"Orbit\")\n",
    "knowledge_graph.add_edge(\"Earth\", \"Sun\", relation=\"Revolves around\")\n",
    "knowledge_graph.add_edge(\"Earth\", \"Shape\", relation=\"Is spherical\")\n",
    "\n",
    "# Highlight missing concepts in the graph (example)\n",
    "if \"Missing concept: Earth's shape (spherical)\" in knowledge_gaps:\n",
    "    knowledge_graph.nodes[\"Shape\"]['color'] = 'red'  # Mark missing concept in red\n",
    "\n",
    "nx.draw(knowledge_graph, with_labels=True, node_color=[knowledge_graph.nodes[node].get('color', 'skyblue') for node in knowledge_graph.nodes])\n",
    "plt.title(\"Knowledge Graph\")\n",
    "plt.show()"
   ]
  },
  {
   "cell_type": "code",
   "execution_count": 43,
   "metadata": {},
   "outputs": [
    {
     "name": "stdout",
     "output_type": "stream",
     "text": [
      "Precision: 0.7142857142857143\n",
      "Recall: 0.625\n",
      "F1-score: 0.6666666666666666\n"
     ]
    }
   ],
   "source": [
    "# Example (Illustrative - needs real data):\n",
    "true_positives = 5  # Correctly identified knowledge gaps\n",
    "false_positives = 2  # Incorrectly identified knowledge gaps\n",
    "false_negatives = 3  # Missed knowledge gaps\n",
    "\n",
    "precision = true_positives / (true_positives + false_positives)\n",
    "recall = true_positives / (true_positives + false_negatives)\n",
    "f1 = 2 * precision * recall / (precision + recall)\n",
    "\n",
    "print(f\"Precision: {precision}\")\n",
    "print(f\"Recall: {recall}\")\n",
    "print(f\"F1-score: {f1}\")"
   ]
  },
  {
   "cell_type": "code",
   "execution_count": null,
   "metadata": {},
   "outputs": [],
   "source": []
  }
 ],
 "metadata": {
  "kernelspec": {
   "display_name": "ai",
   "language": "python",
   "name": "python3"
  },
  "language_info": {
   "codemirror_mode": {
    "name": "ipython",
    "version": 3
   },
   "file_extension": ".py",
   "mimetype": "text/x-python",
   "name": "python",
   "nbconvert_exporter": "python",
   "pygments_lexer": "ipython3",
   "version": "3.9.21"
  }
 },
 "nbformat": 4,
 "nbformat_minor": 2
}
