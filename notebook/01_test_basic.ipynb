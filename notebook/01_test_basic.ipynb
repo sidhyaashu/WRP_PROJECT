{
 "cells": [
  {
   "cell_type": "code",
   "execution_count": 2,
   "metadata": {},
   "outputs": [],
   "source": [
    "import nltk \n",
    "import spacy\n",
    "import numpy as np\n",
    "from sklearn.metrics.pairwise import cosine_similarity\n",
    "from gensim import corpora , models\n",
    "import matplotlib.pyplot as plt"
   ]
  },
  {
   "cell_type": "code",
   "execution_count": 3,
   "metadata": {},
   "outputs": [
    {
     "name": "stderr",
     "output_type": "stream",
     "text": [
      "[nltk_data] Downloading package punkt to C:\\Users\\NITRO V\n",
      "[nltk_data]     15\\AppData\\Roaming\\nltk_data...\n",
      "[nltk_data]   Package punkt is already up-to-date!\n",
      "[nltk_data] Downloading package averaged_perceptron_tagger to\n",
      "[nltk_data]     C:\\Users\\NITRO V 15\\AppData\\Roaming\\nltk_data...\n",
      "[nltk_data]   Package averaged_perceptron_tagger is already up-to-\n",
      "[nltk_data]       date!\n",
      "[nltk_data] Downloading package stopwords to C:\\Users\\NITRO V\n",
      "[nltk_data]     15\\AppData\\Roaming\\nltk_data...\n",
      "[nltk_data]   Unzipping corpora\\stopwords.zip.\n"
     ]
    },
    {
     "data": {
      "text/plain": [
       "True"
      ]
     },
     "execution_count": 3,
     "metadata": {},
     "output_type": "execute_result"
    }
   ],
   "source": [
    "nltk.download('punkt')\n",
    "nltk.download('averaged_perceptron_tagger')\n",
    "nltk.download('stopwords')"
   ]
  },
  {
   "cell_type": "code",
   "execution_count": 6,
   "metadata": {},
   "outputs": [],
   "source": [
    "nlp = spacy.load(\"en_core_web_sm\")"
   ]
  },
  {
   "cell_type": "code",
   "execution_count": 7,
   "metadata": {},
   "outputs": [],
   "source": [
    "correct_answer = \"Photosynthesis is the process by which green plants and some other organisms use sunlight to synthesize foods from carbon dioxide and water. Oxygen is released as a byproduct.\"\n",
    "student_answer = \"Plants use sunlight and water to make food.  It makes oxygen too.\"  #Improper answer"
   ]
  },
  {
   "cell_type": "code",
   "execution_count": 9,
   "metadata": {},
   "outputs": [],
   "source": [
    "def preprocess_text(text):\n",
    "    text = text.lower()\n",
    "    text = ''.join([char for char in text if char.isalnum() or char == ' ']) \n",
    "    text = ' '.join(text.split())\n",
    "    stop_words = set(nltk.corpus.stopwords.words('english'))\n",
    "    words = [word for word in text.split() if word not in stop_words]\n",
    "    return \" \".join(words)"
   ]
  },
  {
   "cell_type": "code",
   "execution_count": 10,
   "metadata": {},
   "outputs": [],
   "source": [
    "processed_correct = preprocess_text(correct_answer)\n",
    "processed_student = preprocess_text(student_answer)"
   ]
  },
  {
   "cell_type": "code",
   "execution_count": 11,
   "metadata": {},
   "outputs": [],
   "source": [
    "correct_tokens = nlp(processed_correct)\n",
    "student_tokens = nlp(processed_student)"
   ]
  },
  {
   "cell_type": "code",
   "execution_count": 12,
   "metadata": {},
   "outputs": [
    {
     "name": "stdout",
     "output_type": "stream",
     "text": [
      "Correct Answer Entities: []\n",
      "Student Answer Entities: []\n"
     ]
    }
   ],
   "source": [
    "print(\"Correct Answer Entities:\", [(ent.text, ent.label_) for ent in correct_tokens.ents])\n",
    "print(\"Student Answer Entities:\", [(ent.text, ent.label_) for ent in student_tokens.ents])"
   ]
  },
  {
   "cell_type": "code",
   "execution_count": 13,
   "metadata": {},
   "outputs": [],
   "source": [
    "documents = [processed_correct, processed_student]\n",
    "dictionary = corpora.Dictionary(doc.split() for doc in documents)\n",
    "corpus = [dictionary.doc2bow(doc.split()) for doc in documents]\n",
    "lda_model = models.LdaModel(corpus, num_topics=2, id2word=dictionary)"
   ]
  },
  {
   "cell_type": "code",
   "execution_count": 14,
   "metadata": {},
   "outputs": [
    {
     "name": "stdout",
     "output_type": "stream",
     "text": [
      "(0, '0.087*\"plants\" + 0.082*\"use\" + 0.081*\"sunlight\" + 0.079*\"oxygen\" + 0.077*\"water\" + 0.070*\"makes\" + 0.067*\"make\" + 0.067*\"food\" + 0.042*\"organisms\" + 0.042*\"foods\"')\n",
      "(1, '0.070*\"water\" + 0.068*\"oxygen\" + 0.066*\"sunlight\" + 0.066*\"use\" + 0.062*\"plants\" + 0.059*\"carbon\" + 0.058*\"photosynthesis\" + 0.058*\"byproduct\" + 0.058*\"released\" + 0.057*\"green\"')\n"
     ]
    }
   ],
   "source": [
    "for topic in lda_model.show_topics():\n",
    "    print(topic)"
   ]
  },
  {
   "cell_type": "code",
   "execution_count": 15,
   "metadata": {},
   "outputs": [
    {
     "name": "stdout",
     "output_type": "stream",
     "text": [
      "Correct Answer Sentiment: -0.1625\n",
      "Student Answer Sentiment: 0.0\n"
     ]
    }
   ],
   "source": [
    "from textblob import TextBlob\n",
    "correct_sentiment = TextBlob(correct_answer).sentiment.polarity\n",
    "student_sentiment = TextBlob(student_answer).sentiment.polarity\n",
    "print(\"Correct Answer Sentiment:\", correct_sentiment)\n",
    "print(\"Student Answer Sentiment:\", student_sentiment)"
   ]
  },
  {
   "cell_type": "code",
   "execution_count": 16,
   "metadata": {},
   "outputs": [],
   "source": [
    "correct_keywords = set(processed_correct.split())\n",
    "student_keywords = set(processed_student.split())"
   ]
  },
  {
   "cell_type": "code",
   "execution_count": 17,
   "metadata": {},
   "outputs": [
    {
     "name": "stdout",
     "output_type": "stream",
     "text": [
      "Missing Keywords: {'foods', 'green', 'photosynthesis', 'dioxide', 'released', 'synthesize', 'process', 'carbon', 'organisms', 'byproduct'}\n"
     ]
    }
   ],
   "source": [
    "missing_keywords = correct_keywords - student_keywords\n",
    "print(\"Missing Keywords:\", missing_keywords)"
   ]
  },
  {
   "cell_type": "code",
   "execution_count": 18,
   "metadata": {},
   "outputs": [],
   "source": [
    "correct_embedding = np.mean([token.vector for token in correct_tokens if token.has_vector], axis=0)\n",
    "student_embedding = np.mean([token.vector for token in student_tokens if token.has_vector], axis=0)"
   ]
  },
  {
   "cell_type": "code",
   "execution_count": 19,
   "metadata": {},
   "outputs": [
    {
     "name": "stdout",
     "output_type": "stream",
     "text": [
      "Semantic Similarity: 0.66198015\n"
     ]
    },
    {
     "data": {
      "image/png": "[encoded data removed]",
      "text/plain": [
       "<Figure size 640x480 with 1 Axes>"
      ]
     },
     "metadata": {},
     "output_type": "display_data"
    }
   ],
   "source": [
    "if not np.isnan(correct_embedding).any() and not np.isnan(student_embedding).any():  # Check for valid vectors\n",
    "    similarity = cosine_similarity(correct_embedding.reshape(1, -1), student_embedding.reshape(1, -1))[0][0]\n",
    "    print(\"Semantic Similarity:\", similarity)\n",
    "\n",
    "    # Example Visualization (Bar chart)\n",
    "    labels = ['Correct Answer', 'Student Answer']\n",
    "    embeddings = [np.linalg.norm(correct_embedding), np.linalg.norm(student_embedding)] #magnitude of vectors\n",
    "\n",
    "    plt.bar(labels, embeddings)\n",
    "    plt.ylabel('Embedding Magnitude')\n",
    "    plt.title('Comparison of Embedding Magnitudes')\n",
    "    plt.show()\n",
    "else:\n",
    "    print(\"Could not calculate semantic similarity due to missing word vectors.\")"
   ]
  },
  {
   "cell_type": "code",
   "execution_count": 20,
   "metadata": {},
   "outputs": [
    {
     "name": "stdout",
     "output_type": "stream",
     "text": [
      "Knowledge Gaps: ['foods', 'green', 'photosynthesis', 'dioxide', 'released', 'synthesize', 'process', 'carbon', 'organisms', 'byproduct']\n"
     ]
    }
   ],
   "source": [
    "knowledge_gaps = list(missing_keywords)\n",
    "print(\"Knowledge Gaps:\", knowledge_gaps)"
   ]
  }
 ],
 "metadata": {
  "kernelspec": {
   "display_name": "ai",
   "language": "python",
   "name": "python3"
  },
  "language_info": {
   "codemirror_mode": {
    "name": "ipython",
    "version": 3
   },
   "file_extension": ".py",
   "mimetype": "text/x-python",
   "name": "python",
   "nbconvert_exporter": "python",
   "pygments_lexer": "ipython3",
   "version": "3.9.21"
  }
 },
 "nbformat": 4,
 "nbformat_minor": 2
}
